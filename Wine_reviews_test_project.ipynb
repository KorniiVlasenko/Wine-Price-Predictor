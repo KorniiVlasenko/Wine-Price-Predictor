{
 "cells": [
  {
   "cell_type": "markdown",
   "id": "6e1c974d",
   "metadata": {},
   "source": [
    "# Wine Price Predictor<a name = 'beginning'></a>    \n",
    "\n",
    "\n",
    "In this project I will apply EDA, missing value processing, and categorical data coding. The project is purely a learning project.    \n",
    "\n",
    "\n",
    "The data was taken from the Kaggle database [kaggle.com](https://www.kaggle.com/)  \n",
    "\n",
    "### Problem statement  \n",
    "\n",
    "> to determine the price of wine   \n",
    "    \n",
    "### Goals of this project   \n",
    "\n",
    "* Practice EDA: Data Loading, Data Familiarization, Data Cleaning;   \n",
    "* Processing Categorical Variables.    \n",
    "\n",
    "### Steps   \n",
    "\n",
    "* [Data Loading](#loading)   \n",
    "* [Getting Familiar With the Data](#familiar)    \n",
    "* [Missing Values Processing](#missing_values)      \n",
    "* [Preparing Data for Training](#preparing)    \n",
    "* [Coding the Categorical Variables](#coding_cv)   \n",
    "* [Training the Model](#training)  "
   ]
  },
  {
   "cell_type": "code",
   "execution_count": 87,
   "id": "4660dd5f",
   "metadata": {},
   "outputs": [],
   "source": [
    "import pandas as pd\n",
    "import sklearn\n",
    "from sklearn.model_selection import train_test_split\n",
    "from sklearn.preprocessing import LabelEncoder\n",
    "import warnings\n",
    "from pandas.core.common import SettingWithCopyWarning\n",
    "from sklearn.metrics import mean_absolute_error\n",
    "from sklearn.ensemble import RandomForestRegressor"
   ]
  },
  {
   "cell_type": "markdown",
   "id": "99336847",
   "metadata": {},
   "source": [
    "### Data Loading<a name = 'loading'></a>   \n",
    "\n",
    "[The Beginning](#beginning)  "
   ]
  },
  {
   "cell_type": "code",
   "execution_count": 52,
   "id": "cb08a48d",
   "metadata": {},
   "outputs": [],
   "source": [
    "data_path = 'C:/Users/samur/Desktop/My Machine Learning/Projects/data/winemag-data-130k-v2.csv'\n",
    "\n",
    "data = pd.read_csv(data_path, index_col = 0)"
   ]
  },
  {
   "cell_type": "markdown",
   "id": "6d3fedb8",
   "metadata": {},
   "source": [
    "### Getting Familiar With the Data<a name = 'familiar'></a>   \n",
    "\n",
    "[The Beginning](#beginning)  "
   ]
  },
  {
   "cell_type": "code",
   "execution_count": 53,
   "id": "3a7fd37b",
   "metadata": {},
   "outputs": [
    {
     "name": "stdout",
     "output_type": "stream",
     "text": [
      "(129971, 13) \n",
      "\n",
      "country                   object\n",
      "description               object\n",
      "designation               object\n",
      "points                     int64\n",
      "price                    float64\n",
      "province                  object\n",
      "region_1                  object\n",
      "region_2                  object\n",
      "taster_name               object\n",
      "taster_twitter_handle     object\n",
      "title                     object\n",
      "variety                   object\n",
      "winery                    object\n",
      "dtype: object\n"
     ]
    },
    {
     "data": {
      "text/html": [
       "<div>\n",
       "<style scoped>\n",
       "    .dataframe tbody tr th:only-of-type {\n",
       "        vertical-align: middle;\n",
       "    }\n",
       "\n",
       "    .dataframe tbody tr th {\n",
       "        vertical-align: top;\n",
       "    }\n",
       "\n",
       "    .dataframe thead th {\n",
       "        text-align: right;\n",
       "    }\n",
       "</style>\n",
       "<table border=\"1\" class=\"dataframe\">\n",
       "  <thead>\n",
       "    <tr style=\"text-align: right;\">\n",
       "      <th></th>\n",
       "      <th>country</th>\n",
       "      <th>description</th>\n",
       "      <th>designation</th>\n",
       "      <th>points</th>\n",
       "      <th>price</th>\n",
       "      <th>province</th>\n",
       "      <th>region_1</th>\n",
       "      <th>region_2</th>\n",
       "      <th>taster_name</th>\n",
       "      <th>taster_twitter_handle</th>\n",
       "      <th>title</th>\n",
       "      <th>variety</th>\n",
       "      <th>winery</th>\n",
       "    </tr>\n",
       "  </thead>\n",
       "  <tbody>\n",
       "    <tr>\n",
       "      <th>0</th>\n",
       "      <td>Italy</td>\n",
       "      <td>Aromas include tropical fruit, broom, brimston...</td>\n",
       "      <td>Vulkà Bianco</td>\n",
       "      <td>87</td>\n",
       "      <td>NaN</td>\n",
       "      <td>Sicily &amp; Sardinia</td>\n",
       "      <td>Etna</td>\n",
       "      <td>NaN</td>\n",
       "      <td>Kerin O’Keefe</td>\n",
       "      <td>@kerinokeefe</td>\n",
       "      <td>Nicosia 2013 Vulkà Bianco  (Etna)</td>\n",
       "      <td>White Blend</td>\n",
       "      <td>Nicosia</td>\n",
       "    </tr>\n",
       "    <tr>\n",
       "      <th>1</th>\n",
       "      <td>Portugal</td>\n",
       "      <td>This is ripe and fruity, a wine that is smooth...</td>\n",
       "      <td>Avidagos</td>\n",
       "      <td>87</td>\n",
       "      <td>15.0</td>\n",
       "      <td>Douro</td>\n",
       "      <td>NaN</td>\n",
       "      <td>NaN</td>\n",
       "      <td>Roger Voss</td>\n",
       "      <td>@vossroger</td>\n",
       "      <td>Quinta dos Avidagos 2011 Avidagos Red (Douro)</td>\n",
       "      <td>Portuguese Red</td>\n",
       "      <td>Quinta dos Avidagos</td>\n",
       "    </tr>\n",
       "    <tr>\n",
       "      <th>2</th>\n",
       "      <td>US</td>\n",
       "      <td>Tart and snappy, the flavors of lime flesh and...</td>\n",
       "      <td>NaN</td>\n",
       "      <td>87</td>\n",
       "      <td>14.0</td>\n",
       "      <td>Oregon</td>\n",
       "      <td>Willamette Valley</td>\n",
       "      <td>Willamette Valley</td>\n",
       "      <td>Paul Gregutt</td>\n",
       "      <td>@paulgwine</td>\n",
       "      <td>Rainstorm 2013 Pinot Gris (Willamette Valley)</td>\n",
       "      <td>Pinot Gris</td>\n",
       "      <td>Rainstorm</td>\n",
       "    </tr>\n",
       "    <tr>\n",
       "      <th>3</th>\n",
       "      <td>US</td>\n",
       "      <td>Pineapple rind, lemon pith and orange blossom ...</td>\n",
       "      <td>Reserve Late Harvest</td>\n",
       "      <td>87</td>\n",
       "      <td>13.0</td>\n",
       "      <td>Michigan</td>\n",
       "      <td>Lake Michigan Shore</td>\n",
       "      <td>NaN</td>\n",
       "      <td>Alexander Peartree</td>\n",
       "      <td>NaN</td>\n",
       "      <td>St. Julian 2013 Reserve Late Harvest Riesling ...</td>\n",
       "      <td>Riesling</td>\n",
       "      <td>St. Julian</td>\n",
       "    </tr>\n",
       "    <tr>\n",
       "      <th>4</th>\n",
       "      <td>US</td>\n",
       "      <td>Much like the regular bottling from 2012, this...</td>\n",
       "      <td>Vintner's Reserve Wild Child Block</td>\n",
       "      <td>87</td>\n",
       "      <td>65.0</td>\n",
       "      <td>Oregon</td>\n",
       "      <td>Willamette Valley</td>\n",
       "      <td>Willamette Valley</td>\n",
       "      <td>Paul Gregutt</td>\n",
       "      <td>@paulgwine</td>\n",
       "      <td>Sweet Cheeks 2012 Vintner's Reserve Wild Child...</td>\n",
       "      <td>Pinot Noir</td>\n",
       "      <td>Sweet Cheeks</td>\n",
       "    </tr>\n",
       "  </tbody>\n",
       "</table>\n",
       "</div>"
      ],
      "text/plain": [
       "    country                                        description  \\\n",
       "0     Italy  Aromas include tropical fruit, broom, brimston...   \n",
       "1  Portugal  This is ripe and fruity, a wine that is smooth...   \n",
       "2        US  Tart and snappy, the flavors of lime flesh and...   \n",
       "3        US  Pineapple rind, lemon pith and orange blossom ...   \n",
       "4        US  Much like the regular bottling from 2012, this...   \n",
       "\n",
       "                          designation  points  price           province  \\\n",
       "0                        Vulkà Bianco      87    NaN  Sicily & Sardinia   \n",
       "1                            Avidagos      87   15.0              Douro   \n",
       "2                                 NaN      87   14.0             Oregon   \n",
       "3                Reserve Late Harvest      87   13.0           Michigan   \n",
       "4  Vintner's Reserve Wild Child Block      87   65.0             Oregon   \n",
       "\n",
       "              region_1           region_2         taster_name  \\\n",
       "0                 Etna                NaN       Kerin O’Keefe   \n",
       "1                  NaN                NaN          Roger Voss   \n",
       "2    Willamette Valley  Willamette Valley        Paul Gregutt   \n",
       "3  Lake Michigan Shore                NaN  Alexander Peartree   \n",
       "4    Willamette Valley  Willamette Valley        Paul Gregutt   \n",
       "\n",
       "  taster_twitter_handle                                              title  \\\n",
       "0          @kerinokeefe                  Nicosia 2013 Vulkà Bianco  (Etna)   \n",
       "1            @vossroger      Quinta dos Avidagos 2011 Avidagos Red (Douro)   \n",
       "2           @paulgwine       Rainstorm 2013 Pinot Gris (Willamette Valley)   \n",
       "3                   NaN  St. Julian 2013 Reserve Late Harvest Riesling ...   \n",
       "4           @paulgwine   Sweet Cheeks 2012 Vintner's Reserve Wild Child...   \n",
       "\n",
       "          variety               winery  \n",
       "0     White Blend              Nicosia  \n",
       "1  Portuguese Red  Quinta dos Avidagos  \n",
       "2      Pinot Gris            Rainstorm  \n",
       "3        Riesling           St. Julian  \n",
       "4      Pinot Noir         Sweet Cheeks  "
      ]
     },
     "execution_count": 53,
     "metadata": {},
     "output_type": "execute_result"
    }
   ],
   "source": [
    "print(data.shape, '\\n')\n",
    "\n",
    "print(data.dtypes)\n",
    "\n",
    "data.head()"
   ]
  },
  {
   "cell_type": "markdown",
   "id": "635bd843",
   "metadata": {},
   "source": [
    "Let's collect the categorical and numerical columns into separate variables for convenience later on."
   ]
  },
  {
   "cell_type": "code",
   "execution_count": 54,
   "id": "a80f4ce9",
   "metadata": {},
   "outputs": [
    {
     "name": "stdout",
     "output_type": "stream",
     "text": [
      "Object cols:  ['country', 'description', 'designation', 'province', 'region_1', 'region_2', 'taster_name', 'taster_twitter_handle', 'title', 'variety', 'winery'] \n",
      "\n",
      "Numerical cols:  ['points', 'price']\n"
     ]
    }
   ],
   "source": [
    "# Get cols with object type\n",
    "object_cols = [col for col in data.columns if data[col].dtype == 'object']\n",
    "\n",
    "# Get cols with numerical type\n",
    "num_cols = [col for col in data.columns if data[col].dtype != 'object']\n",
    "\n",
    "# Check that everything works correctly\n",
    "print(\"Object cols: \", object_cols, '\\n')\n",
    "print('Numerical cols: ', num_cols)"
   ]
  },
  {
   "cell_type": "markdown",
   "id": "68fbbe3a",
   "metadata": {},
   "source": [
    "### Missing Values Processing<a name = 'missing_values'></a>  \n",
    "\n",
    "[The Beginning](#beginning)  \n",
    "\n",
    "I'll use an **Imputation with Most Frequent Value** approach for categorical data   "
   ]
  },
  {
   "cell_type": "code",
   "execution_count": 55,
   "id": "5079c434",
   "metadata": {},
   "outputs": [
    {
     "name": "stdout",
     "output_type": "stream",
     "text": [
      "country :  63  from  129971\n",
      "description :  0  from  129971\n",
      "designation :  37465  from  129971\n",
      "province :  63  from  129971\n",
      "region_1 :  21247  from  129971\n",
      "region_2 :  79460  from  129971\n",
      "taster_name :  26244  from  129971\n",
      "taster_twitter_handle :  31213  from  129971\n",
      "title :  0  from  129971\n",
      "variety :  1  from  129971\n",
      "winery :  0  from  129971\n"
     ]
    }
   ],
   "source": [
    "# Let's check how many empty fields there are in each categorical column\n",
    "for col in object_cols:\n",
    "    nan_count = data[col].isnull().sum()\n",
    "    print(col, ': ', nan_count, ' from ', len(data))"
   ]
  },
  {
   "cell_type": "code",
   "execution_count": 56,
   "id": "43f0cf91",
   "metadata": {},
   "outputs": [],
   "source": [
    "# Create list with the most frequent values for categorical variables\n",
    "\n",
    "most_frequent_values = []\n",
    "for col in object_cols:\n",
    "    most_frequent_values.append(data[col].mode()[0])\n",
    "\n",
    "    \n",
    "    \n",
    "# Put the most frequent values into empty fields\n",
    "\n",
    "for i in range(len(object_cols)):\n",
    "    data.loc[data[object_cols[i]].isnull(), object_cols[i]] = most_frequent_values[i]"
   ]
  },
  {
   "cell_type": "code",
   "execution_count": 57,
   "id": "1100d728",
   "metadata": {},
   "outputs": [
    {
     "name": "stdout",
     "output_type": "stream",
     "text": [
      "country :  0  Nan from  129971\n",
      "description :  0  Nan from  129971\n",
      "designation :  0  Nan from  129971\n",
      "province :  0  Nan from  129971\n",
      "region_1 :  0  Nan from  129971\n",
      "region_2 :  0  Nan from  129971\n",
      "taster_name :  0  Nan from  129971\n",
      "taster_twitter_handle :  0  Nan from  129971\n",
      "title :  0  Nan from  129971\n",
      "variety :  0  Nan from  129971\n",
      "winery :  0  Nan from  129971\n"
     ]
    }
   ],
   "source": [
    "# Check that there are no empty fields left\n",
    "\n",
    "for col in object_cols:\n",
    "    nan_count = data[col].isnull().sum()\n",
    "    print(col, ': ', nan_count, ' Nan from ', len(data))"
   ]
  },
  {
   "cell_type": "markdown",
   "id": "44cf5c37",
   "metadata": {},
   "source": [
    "And I will use an **Imputation with Mean** approach for numerical data"
   ]
  },
  {
   "cell_type": "code",
   "execution_count": 63,
   "id": "db5dbf96",
   "metadata": {},
   "outputs": [
    {
     "name": "stdout",
     "output_type": "stream",
     "text": [
      "points :  0  from  129971\n",
      "price :  0  from  129971\n"
     ]
    }
   ],
   "source": [
    "# Firstly, let's check how many empty fields there are now\n",
    "for col in num_cols:\n",
    "    nan_count = data[col].isnull().sum()\n",
    "    print(col, ': ', nan_count, ' from ', len(data))\n"
   ]
  },
  {
   "cell_type": "code",
   "execution_count": 61,
   "id": "a8e7d389",
   "metadata": {},
   "outputs": [],
   "source": [
    "data.loc[data['price'].isnull(), 'price'] = data['price'].mean()"
   ]
  },
  {
   "cell_type": "code",
   "execution_count": 62,
   "id": "718ee359",
   "metadata": {},
   "outputs": [
    {
     "name": "stdout",
     "output_type": "stream",
     "text": [
      "country                  False\n",
      "description              False\n",
      "designation              False\n",
      "points                   False\n",
      "price                    False\n",
      "province                 False\n",
      "region_1                 False\n",
      "region_2                 False\n",
      "taster_name              False\n",
      "taster_twitter_handle    False\n",
      "title                    False\n",
      "variety                  False\n",
      "winery                   False\n",
      "dtype: bool\n"
     ]
    }
   ],
   "source": [
    "# Check that in the data there are no missing values left\n",
    "print(data.isnull().any())"
   ]
  },
  {
   "cell_type": "markdown",
   "id": "2ad019f9",
   "metadata": {},
   "source": [
    "### Preparing Data for Training<a name = 'preparing'></a>   \n",
    "\n",
    "[The Beginning](#beginning)  "
   ]
  },
  {
   "cell_type": "code",
   "execution_count": 88,
   "id": "b5eeb8cc",
   "metadata": {},
   "outputs": [
    {
     "data": {
      "text/html": [
       "<div>\n",
       "<style scoped>\n",
       "    .dataframe tbody tr th:only-of-type {\n",
       "        vertical-align: middle;\n",
       "    }\n",
       "\n",
       "    .dataframe tbody tr th {\n",
       "        vertical-align: top;\n",
       "    }\n",
       "\n",
       "    .dataframe thead th {\n",
       "        text-align: right;\n",
       "    }\n",
       "</style>\n",
       "<table border=\"1\" class=\"dataframe\">\n",
       "  <thead>\n",
       "    <tr style=\"text-align: right;\">\n",
       "      <th></th>\n",
       "      <th>country</th>\n",
       "      <th>description</th>\n",
       "      <th>designation</th>\n",
       "      <th>points</th>\n",
       "      <th>price</th>\n",
       "      <th>province</th>\n",
       "      <th>region_1</th>\n",
       "      <th>region_2</th>\n",
       "      <th>taster_name</th>\n",
       "      <th>taster_twitter_handle</th>\n",
       "      <th>title</th>\n",
       "      <th>variety</th>\n",
       "      <th>winery</th>\n",
       "    </tr>\n",
       "  </thead>\n",
       "  <tbody>\n",
       "    <tr>\n",
       "      <th>0</th>\n",
       "      <td>Italy</td>\n",
       "      <td>Aromas include tropical fruit, broom, brimston...</td>\n",
       "      <td>Vulkà Bianco</td>\n",
       "      <td>87</td>\n",
       "      <td>35.363389</td>\n",
       "      <td>Sicily &amp; Sardinia</td>\n",
       "      <td>Etna</td>\n",
       "      <td>Central Coast</td>\n",
       "      <td>Kerin O’Keefe</td>\n",
       "      <td>@kerinokeefe</td>\n",
       "      <td>Nicosia 2013 Vulkà Bianco  (Etna)</td>\n",
       "      <td>White Blend</td>\n",
       "      <td>Nicosia</td>\n",
       "    </tr>\n",
       "    <tr>\n",
       "      <th>1</th>\n",
       "      <td>Portugal</td>\n",
       "      <td>This is ripe and fruity, a wine that is smooth...</td>\n",
       "      <td>Avidagos</td>\n",
       "      <td>87</td>\n",
       "      <td>15.000000</td>\n",
       "      <td>Douro</td>\n",
       "      <td>Napa Valley</td>\n",
       "      <td>Central Coast</td>\n",
       "      <td>Roger Voss</td>\n",
       "      <td>@vossroger</td>\n",
       "      <td>Quinta dos Avidagos 2011 Avidagos Red (Douro)</td>\n",
       "      <td>Portuguese Red</td>\n",
       "      <td>Quinta dos Avidagos</td>\n",
       "    </tr>\n",
       "    <tr>\n",
       "      <th>2</th>\n",
       "      <td>US</td>\n",
       "      <td>Tart and snappy, the flavors of lime flesh and...</td>\n",
       "      <td>Reserve</td>\n",
       "      <td>87</td>\n",
       "      <td>14.000000</td>\n",
       "      <td>Oregon</td>\n",
       "      <td>Willamette Valley</td>\n",
       "      <td>Willamette Valley</td>\n",
       "      <td>Paul Gregutt</td>\n",
       "      <td>@paulgwine</td>\n",
       "      <td>Rainstorm 2013 Pinot Gris (Willamette Valley)</td>\n",
       "      <td>Pinot Gris</td>\n",
       "      <td>Rainstorm</td>\n",
       "    </tr>\n",
       "    <tr>\n",
       "      <th>3</th>\n",
       "      <td>US</td>\n",
       "      <td>Pineapple rind, lemon pith and orange blossom ...</td>\n",
       "      <td>Reserve Late Harvest</td>\n",
       "      <td>87</td>\n",
       "      <td>13.000000</td>\n",
       "      <td>Michigan</td>\n",
       "      <td>Lake Michigan Shore</td>\n",
       "      <td>Central Coast</td>\n",
       "      <td>Alexander Peartree</td>\n",
       "      <td>@vossroger</td>\n",
       "      <td>St. Julian 2013 Reserve Late Harvest Riesling ...</td>\n",
       "      <td>Riesling</td>\n",
       "      <td>St. Julian</td>\n",
       "    </tr>\n",
       "    <tr>\n",
       "      <th>4</th>\n",
       "      <td>US</td>\n",
       "      <td>Much like the regular bottling from 2012, this...</td>\n",
       "      <td>Vintner's Reserve Wild Child Block</td>\n",
       "      <td>87</td>\n",
       "      <td>65.000000</td>\n",
       "      <td>Oregon</td>\n",
       "      <td>Willamette Valley</td>\n",
       "      <td>Willamette Valley</td>\n",
       "      <td>Paul Gregutt</td>\n",
       "      <td>@paulgwine</td>\n",
       "      <td>Sweet Cheeks 2012 Vintner's Reserve Wild Child...</td>\n",
       "      <td>Pinot Noir</td>\n",
       "      <td>Sweet Cheeks</td>\n",
       "    </tr>\n",
       "  </tbody>\n",
       "</table>\n",
       "</div>"
      ],
      "text/plain": [
       "    country                                        description  \\\n",
       "0     Italy  Aromas include tropical fruit, broom, brimston...   \n",
       "1  Portugal  This is ripe and fruity, a wine that is smooth...   \n",
       "2        US  Tart and snappy, the flavors of lime flesh and...   \n",
       "3        US  Pineapple rind, lemon pith and orange blossom ...   \n",
       "4        US  Much like the regular bottling from 2012, this...   \n",
       "\n",
       "                          designation  points      price           province  \\\n",
       "0                        Vulkà Bianco      87  35.363389  Sicily & Sardinia   \n",
       "1                            Avidagos      87  15.000000              Douro   \n",
       "2                             Reserve      87  14.000000             Oregon   \n",
       "3                Reserve Late Harvest      87  13.000000           Michigan   \n",
       "4  Vintner's Reserve Wild Child Block      87  65.000000             Oregon   \n",
       "\n",
       "              region_1           region_2         taster_name  \\\n",
       "0                 Etna      Central Coast       Kerin O’Keefe   \n",
       "1          Napa Valley      Central Coast          Roger Voss   \n",
       "2    Willamette Valley  Willamette Valley        Paul Gregutt   \n",
       "3  Lake Michigan Shore      Central Coast  Alexander Peartree   \n",
       "4    Willamette Valley  Willamette Valley        Paul Gregutt   \n",
       "\n",
       "  taster_twitter_handle                                              title  \\\n",
       "0          @kerinokeefe                  Nicosia 2013 Vulkà Bianco  (Etna)   \n",
       "1            @vossroger      Quinta dos Avidagos 2011 Avidagos Red (Douro)   \n",
       "2           @paulgwine       Rainstorm 2013 Pinot Gris (Willamette Valley)   \n",
       "3            @vossroger  St. Julian 2013 Reserve Late Harvest Riesling ...   \n",
       "4           @paulgwine   Sweet Cheeks 2012 Vintner's Reserve Wild Child...   \n",
       "\n",
       "          variety               winery  \n",
       "0     White Blend              Nicosia  \n",
       "1  Portuguese Red  Quinta dos Avidagos  \n",
       "2      Pinot Gris            Rainstorm  \n",
       "3        Riesling           St. Julian  \n",
       "4      Pinot Noir         Sweet Cheeks  "
      ]
     },
     "execution_count": 88,
     "metadata": {},
     "output_type": "execute_result"
    }
   ],
   "source": [
    "data.head()"
   ]
  },
  {
   "cell_type": "code",
   "execution_count": 65,
   "id": "b05f1ab8",
   "metadata": {},
   "outputs": [],
   "source": [
    "# Set the target value\n",
    "y = data.price\n",
    "\n",
    "# Choose features we want to use in our prediction model. The features were choosen by intuition.\n",
    "wine_features = ['country', 'points', 'province', 'variety']\n",
    "\n",
    "# And than we create a specific Frame for the list of the selected features\n",
    "X = data[wine_features]"
   ]
  },
  {
   "cell_type": "markdown",
   "id": "79241fb0",
   "metadata": {},
   "source": [
    "The `province` and `variety` columns contain many categories, some of wich are small and therefore unimformative. Let's combine those categories into the `Other` category. "
   ]
  },
  {
   "cell_type": "code",
   "execution_count": 66,
   "id": "c0e352a0",
   "metadata": {},
   "outputs": [
    {
     "data": {
      "text/plain": [
       "California        36310\n",
       "Washington         8639\n",
       "Bordeaux           5941\n",
       "Tuscany            5897\n",
       "Oregon             5373\n",
       "                  ...  \n",
       "Messinia              1\n",
       "Markopoulo            1\n",
       "Paardeberg            1\n",
       "Krania Olympus        1\n",
       "Neuchâtel             1\n",
       "Name: province, Length: 425, dtype: int64"
      ]
     },
     "execution_count": 66,
     "metadata": {},
     "output_type": "execute_result"
    }
   ],
   "source": [
    "X.province.value_counts()"
   ]
  },
  {
   "cell_type": "code",
   "execution_count": 69,
   "id": "eb5f8be7",
   "metadata": {},
   "outputs": [
    {
     "data": {
      "text/plain": [
       "84"
      ]
     },
     "execution_count": 69,
     "metadata": {},
     "output_type": "execute_result"
    }
   ],
   "source": [
    "# Count the amount of entries of each value in the 'province column\n",
    "province_counts = X.province.value_counts()\n",
    "\n",
    "# Find values that appear less than 100 times\n",
    "province_values_to_replace = province_counts[province_counts < 100].index\n",
    "\n",
    "# Replace them with 'Other'\n",
    "X.province = X.province.replace(province_values_to_replace, 'Other')\n",
    "\n",
    "X.province.nunique()"
   ]
  },
  {
   "cell_type": "markdown",
   "id": "3180877c",
   "metadata": {},
   "source": [
    "Now we have 84 categories in the `province` column instead of 425. Let's do the same thing for the `variety` column."
   ]
  },
  {
   "cell_type": "code",
   "execution_count": 70,
   "id": "8faf2b6e",
   "metadata": {},
   "outputs": [
    {
     "data": {
      "text/plain": [
       "Pinot Noir                    13273\n",
       "Chardonnay                    11753\n",
       "Cabernet Sauvignon             9472\n",
       "Red Blend                      8946\n",
       "Bordeaux-style Red Blend       6915\n",
       "                              ...  \n",
       "Cabernet Sauvignon-Barbera        1\n",
       "Sauvignonasse                     1\n",
       "Forcallà                          1\n",
       "Meseguera                         1\n",
       "Bobal-Cabernet Sauvignon          1\n",
       "Name: variety, Length: 707, dtype: int64"
      ]
     },
     "execution_count": 70,
     "metadata": {},
     "output_type": "execute_result"
    }
   ],
   "source": [
    "X.variety.value_counts()"
   ]
  },
  {
   "cell_type": "code",
   "execution_count": 71,
   "id": "5a516ea1",
   "metadata": {},
   "outputs": [
    {
     "data": {
      "text/plain": [
       "93"
      ]
     },
     "execution_count": 71,
     "metadata": {},
     "output_type": "execute_result"
    }
   ],
   "source": [
    "# Count the amount of entries of each value in the variety column\n",
    "variety_counts = X.variety.value_counts()\n",
    "\n",
    "# Find values that appear less than 100 times\n",
    "variety_values_to_replace = variety_counts[variety_counts < 100].index\n",
    "\n",
    "# Replace them with 'Other'\n",
    "X.variety = X.variety.replace(variety_values_to_replace, 'Other')\n",
    "\n",
    "# Print the result\n",
    "X.variety.nunique()  "
   ]
  },
  {
   "cell_type": "markdown",
   "id": "ceaddebd",
   "metadata": {},
   "source": [
    "Now let's split the data into training and validation sets."
   ]
  },
  {
   "cell_type": "code",
   "execution_count": 74,
   "id": "c796e6ec",
   "metadata": {},
   "outputs": [],
   "source": [
    "X_train, X_val, y_train, y_val = train_test_split(X, y, test_size = 0.2, random_state = 0)"
   ]
  },
  {
   "cell_type": "markdown",
   "id": "40b0fca6",
   "metadata": {},
   "source": [
    "### Coding the Categorical Variables<a name = 'coding_cv'></a>   \n",
    "\n",
    "[The Beginning](#beginning)  "
   ]
  },
  {
   "cell_type": "code",
   "execution_count": 76,
   "id": "5a399e82",
   "metadata": {},
   "outputs": [
    {
     "name": "stdout",
     "output_type": "stream",
     "text": [
      "['country', 'province', 'variety']\n"
     ]
    }
   ],
   "source": [
    "object_features = [col for col in X_train.columns if X_train[col].dtype == 'object']\n",
    "\n",
    "print(object_features)"
   ]
  },
  {
   "cell_type": "code",
   "execution_count": 78,
   "id": "ff2a80fd",
   "metadata": {},
   "outputs": [],
   "source": [
    "# Transforming categorical data with LabelEncoder. I've choosen this one, because I have a lot of categories\n",
    "\n",
    "my_le = LabelEncoder()\n",
    "\n",
    "\n",
    "# Training of the encoder on the training set\n",
    "for col in object_features:\n",
    "    X_train.loc[:, col + '_encoded'] = my_le.fit_transform(X_train[col])\n",
    "    if set(X_val[col]).issubset(set(X_train[col])):\n",
    "        # The trained coder is applied, when all the categories in training and validation sets match\n",
    "        X_val.loc[:, col + '_encoded'] = my_le.transform(X_val[col])\n",
    "    else:\n",
    "        # The \"Other\" category is applied for new categories in the validation dataset\n",
    "        X_val.loc[:, col + '_encoded'] = my_le.transform(X_val[col].replace(set(X_val[col]) \n",
    "                                                                    - set(X_train[col]), 'Other')).copy()\n",
    "    \n",
    "    \n",
    "# In the code above I don't work with slice od DataFrame, I've created a deep copy. So I'll ignore 'SettingWithCopyWarning'\n",
    "warnings.filterwarnings(\"ignore\", category=SettingWithCopyWarning)"
   ]
  },
  {
   "cell_type": "markdown",
   "id": "9269678d",
   "metadata": {},
   "source": [
    "Now when we have encoded categorical columns, we can drop original ones"
   ]
  },
  {
   "cell_type": "code",
   "execution_count": 80,
   "id": "97e0705c",
   "metadata": {},
   "outputs": [],
   "source": [
    "X_train = X_train.drop(columns = ['country', 'variety', 'province'])\n",
    "X_val = X_val.drop(columns = ['country', 'variety', 'province'])"
   ]
  },
  {
   "cell_type": "markdown",
   "id": "b403a5d8",
   "metadata": {},
   "source": [
    "### Training the Model<a name = 'training'></a>  \n",
    "\n",
    "[The Beginning](#beginning)  "
   ]
  },
  {
   "cell_type": "code",
   "execution_count": 86,
   "id": "79fc40f7",
   "metadata": {},
   "outputs": [
    {
     "data": {
      "text/plain": [
       "13.178348545580882"
      ]
     },
     "execution_count": 86,
     "metadata": {},
     "output_type": "execute_result"
    }
   ],
   "source": [
    "model = RandomForestRegressor(random_state=42)\n",
    "\n",
    "model.fit(X_train, y_train)\n",
    "\n",
    "preds = model.predict(X_val)\n",
    "\n",
    "mean_absolute_error(y_val, preds)"
   ]
  },
  {
   "cell_type": "code",
   "execution_count": null,
   "id": "55b3ea27",
   "metadata": {},
   "outputs": [],
   "source": []
  }
 ],
 "metadata": {
  "kernelspec": {
   "display_name": "Python 3 (ipykernel)",
   "language": "python",
   "name": "python3"
  },
  "language_info": {
   "codemirror_mode": {
    "name": "ipython",
    "version": 3
   },
   "file_extension": ".py",
   "mimetype": "text/x-python",
   "name": "python",
   "nbconvert_exporter": "python",
   "pygments_lexer": "ipython3",
   "version": "3.9.7"
  }
 },
 "nbformat": 4,
 "nbformat_minor": 5
}
